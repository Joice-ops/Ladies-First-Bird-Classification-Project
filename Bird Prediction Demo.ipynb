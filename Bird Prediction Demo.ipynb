{
 "cells": [
  {
   "cell_type": "markdown",
   "metadata": {},
   "source": [
    "# Prediction"
   ]
  },
  {
   "cell_type": "code",
   "execution_count": 1,
   "metadata": {},
   "outputs": [],
   "source": [
    "import os\n",
    "import joblib\n",
    "from tensorflow.keras.preprocessing import image\n",
    "from tensorflow.keras.preprocessing.image import ImageDataGenerator\n",
    "import numpy as np\n",
    "final_model = joblib.load('cnn_bird_classification.pkl') \n",
    "img_gen_valid = ImageDataGenerator(rescale=1./255)\n",
    "prediction_data_dir = '..\\\\Data\\\\Bird\\\\pred'\n",
    "names = ['AMERICAN AVOCET',\n",
    " 'AMERICAN FLAMINGO',\n",
    " 'BALD EAGLE',\n",
    " 'BANDED BROADBILL',\n",
    " 'BARN OWL',\n",
    " 'BLONDE CRESTED WOODPECKER',\n",
    " 'CROW',\n",
    " 'IWI',\n",
    " 'LILAC ROLLER',\n",
    " 'PEACOCK',\n",
    " 'PUFFIN',\n",
    " 'ROSY FACED LOVEBIRD',\n",
    " 'RUDY KINGFISHER',\n",
    " 'TRUMPTER SWAN',\n",
    " 'WHITE EARED HUMMINGBIRD']"
   ]
  },
  {
   "cell_type": "code",
   "execution_count": 2,
   "metadata": {},
   "outputs": [],
   "source": [
    "def prediction(pred_dir, img_dir):\n",
    "    prediction_img = os.path.join(pred_dir, img_dir)\n",
    "    img = image.load_img(prediction_img, target_size=(224, 224)) \n",
    "    img_arr = np.expand_dims(image.img_to_array(img), axis=0)\n",
    "\n",
    "    preprocessed_img = img_gen_valid.flow(img_arr, batch_size=1)\n",
    "\n",
    "    predictions = final_model.predict(preprocessed_img)\n",
    "    class_pred = np.argmax(predictions, axis=1)\n",
    "    return names[class_pred[0]]"
   ]
  },
  {
   "cell_type": "code",
   "execution_count": 3,
   "metadata": {},
   "outputs": [
    {
     "name": "stdout",
     "output_type": "stream",
     "text": [
      "\u001b[1m1/1\u001b[0m \u001b[32m━━━━━━━━━━━━━━━━━━━━\u001b[0m\u001b[37m\u001b[0m \u001b[1m0s\u001b[0m 157ms/step\n",
      "\u001b[1m1/1\u001b[0m \u001b[32m━━━━━━━━━━━━━━━━━━━━\u001b[0m\u001b[37m\u001b[0m \u001b[1m0s\u001b[0m 48ms/step"
     ]
    },
    {
     "name": "stderr",
     "output_type": "stream",
     "text": [
      "c:\\Users\\yelin\\.conda\\envs\\test\\Lib\\site-packages\\keras\\src\\trainers\\data_adapters\\py_dataset_adapter.py:121: UserWarning: Your `PyDataset` class should call `super().__init__(**kwargs)` in its constructor. `**kwargs` can include `workers`, `use_multiprocessing`, `max_queue_size`. Do not pass these arguments to `fit()`, as they will be ignored.\n",
      "  self._warn_if_super_not_called()\n"
     ]
    },
    {
     "name": "stdout",
     "output_type": "stream",
     "text": [
      "\u001b[1m1/1\u001b[0m \u001b[32m━━━━━━━━━━━━━━━━━━━━\u001b[0m\u001b[37m\u001b[0m \u001b[1m0s\u001b[0m 49ms/step\n",
      "\u001b[1m1/1\u001b[0m \u001b[32m━━━━━━━━━━━━━━━━━━━━\u001b[0m\u001b[37m\u001b[0m \u001b[1m0s\u001b[0m 87ms/step\n",
      "\u001b[1m1/1\u001b[0m \u001b[32m━━━━━━━━━━━━━━━━━━━━\u001b[0m\u001b[37m\u001b[0m \u001b[1m0s\u001b[0m 65ms/step\n",
      "\u001b[1m1/1\u001b[0m \u001b[32m━━━━━━━━━━━━━━━━━━━━\u001b[0m\u001b[37m\u001b[0m \u001b[1m0s\u001b[0m 58ms/step\n"
     ]
    },
    {
     "data": {
      "text/plain": [
       "['RUDY KINGFISHER', 'IWI', 'BARN OWL', 'CROW', 'WHITE EARED HUMMINGBIRD']"
      ]
     },
     "execution_count": 3,
     "metadata": {},
     "output_type": "execute_result"
    }
   ],
   "source": [
    "pred_list = []\n",
    "\n",
    "for im in os.listdir(prediction_data_dir):\n",
    "    pred_class = prediction(prediction_data_dir, im)\n",
    "    pred_list.append(pred_class)\n",
    "\n",
    "pred_list"
   ]
  }
 ],
 "metadata": {
  "kernelspec": {
   "display_name": "Python 3 (ipykernel)",
   "language": "python",
   "name": "python3"
  },
  "language_info": {
   "codemirror_mode": {
    "name": "ipython",
    "version": 3
   },
   "file_extension": ".py",
   "mimetype": "text/x-python",
   "name": "python",
   "nbconvert_exporter": "python",
   "pygments_lexer": "ipython3",
   "version": "3.12.4"
  }
 },
 "nbformat": 4,
 "nbformat_minor": 4
}
